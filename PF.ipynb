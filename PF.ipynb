{
  "nbformat": 4,
  "nbformat_minor": 0,
  "metadata": {
    "colab": {
      "name": "PF",
      "provenance": [],
      "authorship_tag": "ABX9TyN48vciE1d4gEwxe6I/YM3e",
      "include_colab_link": true
    },
    "kernelspec": {
      "name": "python3",
      "display_name": "Python 3"
    },
    "language_info": {
      "name": "python"
    }
  },
  "cells": [
    {
      "cell_type": "markdown",
      "metadata": {
        "id": "view-in-github",
        "colab_type": "text"
      },
      "source": [
        "<a href=\"https://colab.research.google.com/github/zhenghaojiang/rl_dsge/blob/main/PF.ipynb\" target=\"_parent\"><img src=\"https://colab.research.google.com/assets/colab-badge.svg\" alt=\"Open In Colab\"/></a>"
      ]
    },
    {
      "cell_type": "code",
      "execution_count": null,
      "metadata": {
        "id": "YYE8aJ5P6Ts9"
      },
      "outputs": [],
      "source": [
        "import numpy as np\n",
        "import math\n",
        "import matplotlib.pyplot as plt\n",
        "from numpy.random import normal,uniform\n",
        "from scipy.stats import t,gamma,norm\n",
        "from abc import ABC, abstractmethod\n",
        "from sympy import Symbol,solve"
      ]
    },
    {
      "cell_type": "code",
      "source": [
        "class Solver(ABC):\n",
        "\n",
        "    def __init__(self,params,struc_params):\n",
        "        # Constants\n",
        "        self.r = params[\"r\"]\n",
        "        self.delta = params[\"delta\"]\n",
        "        # Structural Params\n",
        "        self.theta = struc_params[0]\n",
        "        self.rho = struc_params[1]\n",
        "        self.sigma = struc_params[2]\n",
        "    \n",
        "    def pi(self,k,z):\n",
        "        return z*k**self.theta\n",
        "\n",
        "    def psi(self,I,k):\n",
        "        return 0.01*(I**2)/(2*k)\n",
        "\n",
        "    def modeldefs(self,k,kp):\n",
        "        I = kp-(1-self.delta)*k\n",
        "        return I\n",
        "\n",
        "    @abstractmethod\n",
        "    def dsge_solve(self):\n",
        "        pass"
      ],
      "metadata": {
        "id": "t8sqPJ6hTyZw"
      },
      "execution_count": null,
      "outputs": []
    },
    {
      "cell_type": "code",
      "source": [
        "class Linear(Solver):\n",
        "\n",
        "    def __init__(self,params,struc_params):\n",
        "        super(Linear, self).__init__(params,struc_params)\n",
        "        # Constants\n",
        "        self.k_st = (((self.r+self.delta)*(1+0.01*self.delta)-0.005*(self.delta**2))/self.theta) ** (1/(self.theta-1))\n",
        "        self.I_st = self.delta*self.k_st\n",
        "        self.m1 = self.theta*(self.theta-1)*(self.k_st**(self.theta-2))-0.01*(self.I_st**2)/(self.k_st**3) \\\n",
        "                  -0.01*(1-self.delta)*self.I_st/(self.k_st**2)\n",
        "        self.m2 = 0.01*(self.I_st/(self.k_st**2)+(1-self.delta)/self.k_st)\n",
        "\n",
        "    def dsge_solve(self):\n",
        "        A = Symbol('A')\n",
        "        B = Symbol('B')\n",
        "        solved_value = solve([0.01*(1+self.r)*(A/self.k_st-self.I_st/(self.k_st**2))-(1-self.delta+A)*(self.m1+self.m2*A), \n",
        "                              0.01*(1+self.r)*B/self.k_st-self.theta*(self.k_st**(self.theta-1))*self.rho \\\n",
        "                              -self.m1*B-self.m2*B*(A+self.rho)], \n",
        "                             [A, B])\n",
        "        kab = np.array(solved_value)[0]\n",
        "        return kab"
      ],
      "metadata": {
        "id": "MY9UECDKAYHI"
      },
      "execution_count": null,
      "outputs": []
    },
    {
      "cell_type": "code",
      "source": [
        "np.random.seed(1111)\n",
        "\n",
        "basic_params = {'r': 1/24,\n",
        "                'delta': 0.15}\n",
        "\n",
        "basic_struc_params = [0.70,0.70,0.15]\n",
        "\n",
        "struc_params_init = [0.50,0.50,0.30]\n",
        "\n",
        "def ktrans(k,I,delta):\n",
        "    return (1-delta) * k + I\n",
        "\n",
        "def ztrans(z,rho,sigma):\n",
        "    lnz = np.log(z)\n",
        "    lnz_new = rho * lnz + normal(0,sigma)\n",
        "    return np.exp(lnz_new)\n",
        "\n",
        "def action(k,z,kab,k_st = 74.79,I_st = 11.22):\n",
        "  I_tilt = kab[0]*(k-k_st)+kab[1]*(z-1)\n",
        "  return I_tilt+I_st\n",
        "\n",
        "def sim_k(params: dict = basic_params, struc_params: np.array = basic_struc_params, kab: np.array = None, T = 500): \n",
        "    r = params[\"r\"]\n",
        "    delta = params[\"delta\"]\n",
        "    theta,rho,sigma = struc_params\n",
        "\n",
        "    z0 = 1.0\n",
        "    k0 = 70.0\n",
        "    I0 = action(k0,z0,kab)\n",
        "    \n",
        "    k_sim = []\n",
        "    I_sim = []\n",
        "    z_sim = []\n",
        "    for i in range(T):\n",
        "        if i==0:\n",
        "            z_sim.append(z0)\n",
        "            k_sim.append(k0)\n",
        "            I_sim.append(I0)\n",
        "        else:\n",
        "            z_sim.append(ztrans(z_sim[i-1],rho,sigma))\n",
        "            k_sim.append(ktrans(k_sim[i-1],I_sim[i-1],delta))\n",
        "            I_sim.append(action(k_sim[i],z_sim[i],kab))\n",
        "    return k_sim\n",
        "\n",
        "solver = Linear(params=basic_params,struc_params=basic_struc_params)\n",
        "kab = solver.dsge_solve()\n",
        "k_real = sim_k(kab=kab)\n",
        "\n",
        "def prior(struc_params: np.array = None): \n",
        "    theta,rho,sigma = struc_params\n",
        "    p_theta = gamma.pdf(theta,2,scale=theta/2)\n",
        "    p_rho = gamma.pdf(rho,2,scale=rho/2)\n",
        "    p_sigma = gamma.pdf(sigma,2,scale=sigma/2)\n",
        "    return p_theta * p_rho * p_sigma\n",
        "\n",
        "def loglikelihoodfunc(params: dict = basic_params, struc_params: np.array = None, N = 1000, T = 500, k_real = k_real, kab: np.array = None):\n",
        "    r = params[\"r\"]\n",
        "    delta = params[\"delta\"]\n",
        "    theta,rho,sigma = struc_params\n",
        "\n",
        "    loglikeli = 0.0\n",
        "    k = np.ones(N) * 70.0\n",
        "    z = np.ones(N)\n",
        "    for i in range(T):\n",
        "        z = ztrans(z,rho,sigma)\n",
        "        I = action(k,z,kab)\n",
        "        k_cond = ktrans(k,I,delta)\n",
        "        k_obs = k_real[i] \n",
        "        v = np.array(k_obs - k_cond,dtype=float)\n",
        "        q = norm.pdf(v,scale=20)/sum(norm.pdf(v,scale=20))\n",
        "        k = np.random.choice(k_cond,N,replace=True,p=q)\n",
        "        loglikeli = loglikeli + math.log(np.mean(norm.pdf(v,scale=20)))\n",
        "    return loglikeli\n",
        "\n",
        "def mcmc(M = 20, struc_params_init: dict = struc_params_init):\n",
        "\n",
        "    def threshold(params_new: np.array, params_old: np.array):\n",
        "        prior_mol = prior(params_new)\n",
        "        loglikeli_mol = loglikelihoodfunc(struc_params=params_new, kab=kab)\n",
        "        prior_den = prior(params_old)\n",
        "        loglikeli_den = loglikelihoodfunc(struc_params=params_old, kab=kab)\n",
        "        log_res = np.log(prior_mol) + loglikeli_mol - np.log(prior_den) - loglikeli_den\n",
        "        if log_res > 200:\n",
        "            res = math.inf\n",
        "        else:\n",
        "            res = np.exp(log_res)\n",
        "        return res\n",
        "    \n",
        "    params = struc_params_init\n",
        "    # params_vec = []\n",
        "    for _ in range(M):\n",
        "        params_p = [max(params[0] + normal(scale=0.05),0.001),\n",
        "                    max(params[1] + normal(scale=0.05),0.001),\n",
        "                    max(params[2] + normal(scale=0.03),0.001)]\n",
        "        chi = uniform()\n",
        "        if chi <= threshold(params_p,params):\n",
        "            params_up = params_p\n",
        "        else:\n",
        "            params_up = params\n",
        "        params = params_up\n",
        "        print(params)"
      ],
      "metadata": {
        "id": "RlUE1pBJ7T0k"
      },
      "execution_count": null,
      "outputs": []
    },
    {
      "cell_type": "code",
      "source": [
        "mcmc()"
      ],
      "metadata": {
        "id": "Fflq1NuZ8olv"
      },
      "execution_count": null,
      "outputs": []
    }
  ]
}