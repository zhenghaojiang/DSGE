{
  "nbformat": 4,
  "nbformat_minor": 0,
  "metadata": {
    "colab": {
      "name": "Solver Class",
      "provenance": [],
      "collapsed_sections": [],
      "authorship_tag": "ABX9TyP8en3pUAVhcKcxB8qkRqEp",
      "include_colab_link": true
    },
    "kernelspec": {
      "name": "python3",
      "display_name": "Python 3"
    },
    "language_info": {
      "name": "python"
    }
  },
  "cells": [
    {
      "cell_type": "markdown",
      "metadata": {
        "id": "view-in-github",
        "colab_type": "text"
      },
      "source": [
        "<a href=\"https://colab.research.google.com/github/zhenghaojiang/rl_dsge/blob/main/Solver_Class.ipynb\" target=\"_parent\"><img src=\"https://colab.research.google.com/assets/colab-badge.svg\" alt=\"Open In Colab\"/></a>"
      ]
    },
    {
      "cell_type": "code",
      "execution_count": null,
      "metadata": {
        "id": "Fmjon6eYNrcX"
      },
      "outputs": [],
      "source": [
        "from abc import ABC, abstractmethod\n",
        "from sympy import *\n",
        "import numpy as np\n",
        "import scipy as sp\n",
        "import matplotlib.pyplot as plt"
      ]
    },
    {
      "cell_type": "code",
      "source": [
        "class Solver(ABC):\n",
        "\n",
        "    def __init__(self,params,struc_params):\n",
        "        # Constants\n",
        "        self.r = params[\"r\"]\n",
        "        self.delta = params[\"delta\"]\n",
        "        # Structural Params\n",
        "        self.theta = struc_params[0]\n",
        "        self.rho = struc_params[1]\n",
        "        self.sigma = struc_params[2]\n",
        "    \n",
        "    def pi(self,k,z):\n",
        "        return z*k**self.theta\n",
        "\n",
        "    def psi(self,I,k):\n",
        "        return 0.01*(I**2)/(2*k)\n",
        "\n",
        "    def modeldefs(self,k,kp):\n",
        "        I = kp-(1-self.delta)*k\n",
        "        return I\n",
        "\n",
        "    @abstractmethod\n",
        "    def dsge_solve(self):\n",
        "        pass"
      ],
      "metadata": {
        "id": "t8sqPJ6hTyZw"
      },
      "execution_count": null,
      "outputs": []
    },
    {
      "cell_type": "code",
      "source": [
        "class Linear(Solver):\n",
        "\n",
        "    def __init__(self,params,struc_params):\n",
        "        super(Linear, self).__init__(params,struc_params)\n",
        "        # Constants\n",
        "        self.k_st = (((self.r+self.delta)*(1+0.01*self.delta)-0.005*(self.delta**2))/self.theta) ** (1/(self.theta-1))\n",
        "        self.I_st = self.delta*self.k_st\n",
        "        self.m1 = self.theta*(self.theta-1)*(self.k_st**(self.theta-2))-0.01*(self.I_st**2)/(self.k_st**3) \\\n",
        "                  -0.01*(1-self.delta)*self.I_st/(self.k_st**2)\n",
        "        self.m2 = 0.01*(self.I_st/(self.k_st**2)+(1-self.delta)/self.k_st)\n",
        "\n",
        "    def dsge_solve(self):\n",
        "        A = Symbol('A')\n",
        "        B = Symbol('B')\n",
        "        solved_value = solve([0.01*(1+self.r)*(A/self.k_st-self.I_st/(self.k_st**2))-(1-self.delta+A)*(self.m1+self.m2*A), \n",
        "                              0.01*(1+self.r)*B/self.k_st-self.theta*(self.k_st**(self.theta-1))*self.rho \\\n",
        "                              -self.m1*B-self.m2*B*(A+self.rho)], \n",
        "                             [A, B])\n",
        "        kab = np.array(solved_value)[0]\n",
        "        return kab"
      ],
      "metadata": {
        "id": "MY9UECDKAYHI"
      },
      "execution_count": null,
      "outputs": []
    },
    {
      "cell_type": "code",
      "source": [
        "class Loglinear(Solver):\n",
        "\n",
        "    def __init__(self,params,struc_params):\n",
        "        super(Loglinear, self).__init__(params,struc_params)\n",
        "        # Constants\n",
        "        self.k = (((self.r+self.delta)*(1+0.01*self.delta)-0.005*(self.delta**2))/self.theta) ** (1/(self.theta-1))\n",
        "        self.I = self.delta*self.k\n",
        "        self.m1 = self.theta*(self.theta-1)*(self.k**(self.theta-1))-0.01*((self.I/self.k)**2)-0.01*(1-self.delta)*self.I/self.k\n",
        "        self.m2 = 0.01*((self.I/self.k)**2)+0.01*(1-self.delta)*self.I/self.k\n",
        "    \n",
        "    def dsge_solve(self):\n",
        "        A = Symbol('A')\n",
        "        B = Symbol('B')\n",
        "        solved_value = solve([0.01*(1+self.r)*self.I*(A-1)/self.k-(1-self.delta+A*self.I/self.k)*(self.m1+self.m2*A), \n",
        "                              0.01*(1+self.r)*self.I*B/self.k-self.theta*(self.k**(self.theta-1))*self.rho \\\n",
        "                              -self.m1*B*self.I/self.k-self.m2*(A*B*self.I/self.k+self.rho)], \n",
        "                             [A, B])\n",
        "        kab = np.array(solved_value)[0]\n",
        "        return kab"
      ],
      "metadata": {
        "id": "JUsQHHdjAcJQ"
      },
      "execution_count": null,
      "outputs": []
    },
    {
      "cell_type": "code",
      "source": [
        "# rouwen\n",
        "def rouwen(rho, mu, step, num):\n",
        "    # discrete state space\n",
        "    dscSp = np.linspace(mu -(num-1)/2*step, mu +(num-1)/2*step, num).T\n",
        "\n",
        "    # transition probability matrix\n",
        "    q = p = (rho + 1)/2.\n",
        "    transP = np.array([[p**2, p*(1-q), (1-q)**2], \\\n",
        "              [2*p*(1-p), p*q+(1-p)*(1-q), 2*q*(1-q)], \\\n",
        "              [(1-p)**2, (1-p)*q, q**2]]).T\n",
        "\n",
        "\n",
        "    while transP.shape[0] <= num - 1:\n",
        "\n",
        "        # see Rouwenhorst 1995\n",
        "        len_P = transP.shape[0]\n",
        "        transP = p * np.vstack((np.hstack((transP, np.zeros((len_P, 1)))), np.zeros((1, len_P+1)))) \\\n",
        "                + (1 - p) * np.vstack((np.hstack((np.zeros((len_P, 1)), transP)), np.zeros((1, len_P+1)))) \\\n",
        "                + (1 - q) * np.vstack((np.zeros((1, len_P+1)), np.hstack((transP, np.zeros((len_P, 1)))))) \\\n",
        "                + q * np.vstack((np.zeros((1, len_P+1)), np.hstack((np.zeros((len_P, 1)), transP))))\n",
        "\n",
        "        transP[1:-1] /= 2.\n",
        "\n",
        "\n",
        "    # ensure columns sum to 1\n",
        "    if np.max(np.abs(np.sum(transP, axis=1) - np.ones(transP.shape))) >= 1e-12:\n",
        "        print('Problem in rouwen routine!')\n",
        "        return None\n",
        "    else:\n",
        "        return transP.T, dscSp"
      ],
      "metadata": {
        "id": "ZMDgRkGaAx7b"
      },
      "execution_count": null,
      "outputs": []
    },
    {
      "cell_type": "code",
      "source": [
        "class VI(Solver):\n",
        "    \n",
        "    def __init__(self,params,struc_params):\n",
        "        super(VI, self).__init__(params,struc_params)\n",
        "        # Constants\n",
        "        self.k_st = (((self.r+self.delta)*(1+0.01*self.delta)-0.005*(self.delta**2))/self.theta) ** (1/(self.theta-1))\n",
        "        self.I_st = self.delta*self.k_st\n",
        "\n",
        "    def dsge_solve(self):\n",
        "        # set up grid for k\n",
        "        keps = .01\n",
        "        klow = keps*self.k_st\n",
        "        khigh = (2-keps)*self.k_st\n",
        "        knpts = 51\n",
        "        kgrid = np.linspace(klow, khigh, num = knpts)\n",
        "\n",
        "        # set up Markov approximation of AR(1) process using Rouwenhorst method\n",
        "        spread = 2.  # number of standard deviations above and below 0\n",
        "        znpts = 16\n",
        "        zstep = 2*spread*self.sigma/(znpts-1)\n",
        "        # Markov transition probabilities, current z in cols, next z in rows\n",
        "        Pimat, lnzgrid = rouwen(self.rho, 0., zstep, znpts)\n",
        "        zgrid = np.exp(lnzgrid)\n",
        "\n",
        "        VF = np.zeros((knpts, znpts))\n",
        "        VFnew = np.zeros((knpts, znpts))\n",
        "        PF = np.zeros((knpts, znpts))\n",
        "\n",
        "        ccrit = 1.0E-2\n",
        "        maxit = 1000\n",
        "        damp = 1.\n",
        "        dist = 1.0E+99\n",
        "        iters = 0\n",
        "\n",
        "        while (dist > ccrit) and (iters < maxit):\n",
        "            VFnew.fill(0.0)\n",
        "            iters = iters + 1\n",
        "            for i in range (0, knpts):\n",
        "                for j in range(0, znpts):\n",
        "                    maxval = -1.0E+98\n",
        "                    for m in range(0, knpts):\n",
        "                        # get current period utility\n",
        "                        I = self.modeldefs(kgrid[i], kgrid[m])\n",
        "                        # get expected value\n",
        "                        val = self.pi(kgrid[i], zgrid[j]) - self.psi(I, kgrid[i]) - I\n",
        "                        for n in range (0, znpts):\n",
        "                            # sum over all possible value of z(t+1) with Markov probs\n",
        "                            val = val + Pimat[n, j]*VF[m, n]/(1+self.r)\n",
        "                            # if this exceeds previous maximum do replacements\n",
        "                        if val > maxval:\n",
        "                            maxval = val\n",
        "                            VFnew[i, j] = val\n",
        "                            PF[i, j] = kgrid[m]\n",
        "            dist = np.amax(np.abs(VF - VFnew))\n",
        "            print('iteration: ', iters, 'distance: ', dist)\n",
        "            VF = damp*VFnew + (1-damp)*VF\n",
        "        print('Converged after', iters, 'iterations')\n",
        "        print('Policy function at (', int((knpts-1)/2), ',', int((znpts-1)/2), ') should be', \\\n",
        "            kgrid[int((knpts-1)/2)], 'and is', PF[int((knpts-1)/2), int((znpts-1)/2)])\n",
        "        def policy(k,z):\n",
        "            i = np.argmin(abs(kgrid-k))\n",
        "            j = np.argmin(abs(zgrid-z))\n",
        "            k_new = PF[i,j]\n",
        "            return k_new\n",
        "        return policy"
      ],
      "metadata": {
        "id": "bMh9HEuMAelw"
      },
      "execution_count": null,
      "outputs": []
    },
    {
      "cell_type": "code",
      "source": [
        "basic_params = {'r': 1/24,\n",
        "                'delta': 0.15}\n",
        "\n",
        "basic_struc_params = [0.70,0.70,0.15]"
      ],
      "metadata": {
        "id": "qoiIJBgs1qVp"
      },
      "execution_count": null,
      "outputs": []
    },
    {
      "cell_type": "code",
      "source": [
        "res = VI(params=basic_params,struc_params=basic_struc_params)\n",
        "plc = res.dsge_solve()"
      ],
      "metadata": {
        "colab": {
          "base_uri": "https://localhost:8080/"
        },
        "id": "wEJuEiof79TL",
        "outputId": "7e561df9-d7e7-4c6a-bb3e-9012615cca11"
      },
      "execution_count": null,
      "outputs": [
        {
          "output_type": "stream",
          "name": "stdout",
          "text": [
            "iteration:  1 distance:  170.01999552952066\n",
            "iteration:  2 distance:  12.022597147589465\n",
            "iteration:  3 distance:  9.512392664027658\n",
            "iteration:  4 distance:  7.906627149013929\n",
            "iteration:  5 distance:  6.848901069758568\n",
            "iteration:  6 distance:  6.114907804248247\n",
            "iteration:  7 distance:  5.578300985196108\n",
            "iteration:  8 distance:  5.166690090654129\n",
            "iteration:  9 distance:  4.836893166585213\n",
            "iteration:  10 distance:  4.562295917637073\n",
            "iteration:  11 distance:  4.3260424451007395\n",
            "iteration:  12 distance:  4.117223482872191\n",
            "iteration:  13 distance:  3.9286560225285996\n",
            "iteration:  14 distance:  3.755540077158088\n",
            "iteration:  15 distance:  3.594622757519261\n",
            "iteration:  16 distance:  3.443667177458167\n",
            "iteration:  17 distance:  3.3011097112145364\n",
            "iteration:  18 distance:  3.165836195032739\n",
            "iteration:  19 distance:  3.0370345195038055\n",
            "iteration:  20 distance:  2.9140969104506667\n",
            "iteration:  21 distance:  2.7965548345159164\n",
            "iteration:  22 distance:  2.6840354725121074\n",
            "iteration:  23 distance:  2.5762325216296915\n",
            "iteration:  24 distance:  2.4728865514058214\n",
            "iteration:  25 distance:  2.3737717464167645\n",
            "iteration:  26 distance:  2.2786869269878594\n",
            "iteration:  27 distance:  2.1874494399719993\n",
            "iteration:  28 distance:  2.0998909776603227\n",
            "iteration:  29 distance:  2.0158546937509243\n",
            "iteration:  30 distance:  1.9351931931279296\n",
            "iteration:  31 distance:  1.8577671113566794\n",
            "iteration:  32 distance:  1.7834440930795665\n",
            "iteration:  33 distance:  1.712098041072693\n",
            "iteration:  34 distance:  1.643608549724405\n",
            "iteration:  35 distance:  1.5778604649034662\n",
            "iteration:  36 distance:  1.514743531128886\n",
            "iteration:  37 distance:  1.4541520996860697\n",
            "iteration:  38 distance:  1.3959848798868393\n",
            "iteration:  39 distance:  1.3401447214262987\n",
            "iteration:  40 distance:  1.2865384196553862\n",
            "iteration:  41 distance:  1.2350765381912083\n",
            "iteration:  42 distance:  1.1856732450399932\n",
            "iteration:  43 distance:  1.1382461595873679\n",
            "iteration:  44 distance:  1.0927162086063902\n",
            "iteration:  45 distance:  1.049007489972638\n",
            "iteration:  46 distance:  1.0070471431392036\n",
            "iteration:  47 distance:  0.9667652256720203\n",
            "Converged after 47 iterations\n",
            "Policy function at ( 25 , 7 ) should be 74.79117175544742 and is 71.8294413539317\n"
          ]
        }
      ]
    }
  ]
}