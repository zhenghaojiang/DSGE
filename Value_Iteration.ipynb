{
  "nbformat": 4,
  "nbformat_minor": 0,
  "metadata": {
    "colab": {
      "name": "Value Iteration",
      "provenance": [],
      "authorship_tag": "ABX9TyMLQSeyD9u1Frsxl5PDM8K8",
      "include_colab_link": true
    },
    "kernelspec": {
      "name": "python3",
      "display_name": "Python 3"
    },
    "language_info": {
      "name": "python"
    }
  },
  "cells": [
    {
      "cell_type": "markdown",
      "metadata": {
        "id": "view-in-github",
        "colab_type": "text"
      },
      "source": [
        "<a href=\"https://colab.research.google.com/github/zhenghaojiang/DSGE/blob/main/Value_Iteration.ipynb\" target=\"_parent\"><img src=\"https://colab.research.google.com/assets/colab-badge.svg\" alt=\"Open In Colab\"/></a>"
      ]
    },
    {
      "cell_type": "code",
      "metadata": {
        "id": "cvWapEJhBFWc"
      },
      "source": [
        "import numpy as np\n",
        "import scipy as sp\n",
        "import matplotlib.pyplot as plt"
      ],
      "execution_count": 1,
      "outputs": []
    },
    {
      "cell_type": "code",
      "metadata": {
        "id": "nqcZW4VwAxnJ"
      },
      "source": [
        "# rouwen\n",
        "def rouwen(rho, mu, step, num):\n",
        "    # discrete state space\n",
        "    dscSp = np.linspace(mu -(num-1)/2*step, mu +(num-1)/2*step, num).T\n",
        "\n",
        "    # transition probability matrix\n",
        "    q = p = (rho + 1)/2.\n",
        "    transP = np.array([[p**2, p*(1-q), (1-q)**2], \\\n",
        "              [2*p*(1-p), p*q+(1-p)*(1-q), 2*q*(1-q)], \\\n",
        "              [(1-p)**2, (1-p)*q, q**2]]).T\n",
        "\n",
        "\n",
        "    while transP.shape[0] <= num - 1:\n",
        "\n",
        "        # see Rouwenhorst 1995\n",
        "        len_P = transP.shape[0]\n",
        "        transP = p * np.vstack((np.hstack((transP, np.zeros((len_P, 1)))), np.zeros((1, len_P+1)))) \\\n",
        "                + (1 - p) * np.vstack((np.hstack((np.zeros((len_P, 1)), transP)), np.zeros((1, len_P+1)))) \\\n",
        "                + (1 - q) * np.vstack((np.zeros((1, len_P+1)), np.hstack((transP, np.zeros((len_P, 1)))))) \\\n",
        "                + q * np.vstack((np.zeros((1, len_P+1)), np.hstack((np.zeros((len_P, 1)), transP))))\n",
        "\n",
        "        transP[1:-1] /= 2.\n",
        "\n",
        "\n",
        "    # ensure columns sum to 1\n",
        "    if np.max(np.abs(np.sum(transP, axis=1) - np.ones(transP.shape))) >= 1e-12:\n",
        "        print('Problem in rouwen routine!')\n",
        "        return None\n",
        "    else:\n",
        "        return transP.T, dscSp"
      ],
      "execution_count": 2,
      "outputs": []
    },
    {
      "cell_type": "code",
      "metadata": {
        "id": "VgFzruWlhrVd"
      },
      "source": [
        "r = 1/0.96 - 1\n",
        "theta = 0.70\n",
        "delta = 0.15\n",
        "rho = 0.70\n",
        "k_st = (((r+delta)*(1+0.01*delta)-0.005*(delta**2))/theta) ** (1/(theta-1))\n",
        "I_st = delta*k_st\n",
        "sigma = 0.15\n",
        "\n",
        "def modeldefs(k, kp):\n",
        "  I = kp-(1-delta)*k\n",
        "  return I\n",
        "def funcpi(k, z):\n",
        "  x = z*k**theta\n",
        "  return x\n",
        "def funcpsi(I, k):\n",
        "  x = 0.01*(I**2)/(2*k)\n",
        "  return x"
      ],
      "execution_count": 3,
      "outputs": []
    },
    {
      "cell_type": "code",
      "metadata": {
        "id": "2JCqFNfADEJn"
      },
      "source": [
        "# set up grid for k\n",
        "keps = .01\n",
        "klow = keps*k_st\n",
        "khigh = (2-keps)*k_st\n",
        "knpts = 51\n",
        "kgrid = np.linspace(klow, khigh, num = knpts)\n",
        "\n",
        "# set up Markov approximation of AR(1) process using Rouwenhorst method\n",
        "spread = 2.  # number of standard deviations above and below 0\n",
        "znpts = 16\n",
        "zstep = 2*spread*sigma/(znpts-1)\n",
        "# Markov transition probabilities, current z in cols, next z in rows\n",
        "Pimat, lnzgrid = rouwen(rho, 0., zstep, znpts)\n",
        "zgrid = np.exp(lnzgrid)\n",
        "\n",
        "VF = np.zeros((knpts, znpts))\n",
        "VFnew = np.zeros((knpts, znpts))\n",
        "PF = np.zeros((knpts, znpts))\n",
        "\n",
        "ccrit = 1.0E-2\n",
        "maxit = 1000\n",
        "damp = 1.\n",
        "dist = 1.0E+99\n",
        "iters = 0"
      ],
      "execution_count": 4,
      "outputs": []
    },
    {
      "cell_type": "code",
      "metadata": {
        "colab": {
          "base_uri": "https://localhost:8080/"
        },
        "id": "bmMRj5xipf30",
        "outputId": "1c6e4e84-1852-4685-9d24-c039c11bc3ba"
      },
      "source": [
        "while (dist > ccrit) and (iters < maxit):\n",
        "    VFnew.fill(0.0)\n",
        "    iters = iters + 1\n",
        "    for i in range (0, knpts):\n",
        "        for j in range(0, znpts):\n",
        "            maxval = -1.0E+98\n",
        "            for m in range(0, knpts):\n",
        "                # get current period utility\n",
        "                I = modeldefs(kgrid[i], kgrid[m])\n",
        "                # get expected value\n",
        "                val = funcpi(kgrid[i], zgrid[j]) - funcpsi(I, kgrid[i]) - I\n",
        "                for n in range (0, znpts):\n",
        "                    # sum over all possible value of z(t+1) with Markov probs\n",
        "                    val = val + Pimat[n, j]*VF[m, n]/(1+r)\n",
        "                    # if this exceeds previous maximum do replacements\n",
        "                if val > maxval:\n",
        "                    maxval = val\n",
        "                    VFnew[i, j] = val\n",
        "                    PF[i, j] = kgrid[m]\n",
        "    dist = np.amax(np.abs(VF - VFnew))\n",
        "    print('iteration: ', iters, 'distance: ', dist)\n",
        "    VF = damp*VFnew + (1-damp)*VF"
      ],
      "execution_count": 5,
      "outputs": [
        {
          "output_type": "stream",
          "name": "stdout",
          "text": [
            "iteration:  1 distance:  170.01999552952046\n",
            "iteration:  2 distance:  12.022597147589437\n",
            "iteration:  3 distance:  9.51239266402763\n",
            "iteration:  4 distance:  7.906627149013957\n",
            "iteration:  5 distance:  6.848901069758568\n",
            "iteration:  6 distance:  6.114907804248219\n",
            "iteration:  7 distance:  5.578300985196108\n",
            "iteration:  8 distance:  5.166690090654157\n",
            "iteration:  9 distance:  4.836893166585213\n",
            "iteration:  10 distance:  4.562295917637073\n",
            "iteration:  11 distance:  4.326042445100768\n",
            "iteration:  12 distance:  4.11722348287222\n",
            "iteration:  13 distance:  3.928656022528628\n",
            "iteration:  14 distance:  3.755540077158088\n",
            "iteration:  15 distance:  3.594622757519261\n",
            "iteration:  16 distance:  3.443667177458167\n",
            "iteration:  17 distance:  3.3011097112145364\n",
            "iteration:  18 distance:  3.165836195032739\n",
            "iteration:  19 distance:  3.037034519503834\n",
            "iteration:  20 distance:  2.9140969104506667\n",
            "iteration:  21 distance:  2.7965548345159164\n",
            "iteration:  22 distance:  2.6840354725121074\n",
            "iteration:  23 distance:  2.576232521629663\n",
            "iteration:  24 distance:  2.4728865514058214\n",
            "iteration:  25 distance:  2.3737717464167787\n",
            "iteration:  26 distance:  2.2786869269878736\n",
            "iteration:  27 distance:  2.187449439972056\n",
            "iteration:  28 distance:  2.099890977660351\n",
            "iteration:  29 distance:  2.0158546937509527\n",
            "iteration:  30 distance:  1.9351931931279864\n",
            "iteration:  31 distance:  1.8577671113566794\n",
            "iteration:  32 distance:  1.783444093079538\n",
            "iteration:  33 distance:  1.712098041072636\n",
            "iteration:  34 distance:  1.6436085497244335\n",
            "iteration:  35 distance:  1.5778604649034094\n",
            "iteration:  36 distance:  1.5147435311288575\n",
            "iteration:  37 distance:  1.4541520996860413\n",
            "iteration:  38 distance:  1.3959848798868393\n",
            "iteration:  39 distance:  1.3401447214263271\n",
            "iteration:  40 distance:  1.2865384196554146\n",
            "iteration:  41 distance:  1.2350765381912083\n",
            "iteration:  42 distance:  1.1856732450399647\n",
            "iteration:  43 distance:  1.1382461595873679\n",
            "iteration:  44 distance:  1.0927162086064186\n",
            "iteration:  45 distance:  1.0490074899726665\n",
            "iteration:  46 distance:  1.007047143139232\n",
            "iteration:  47 distance:  0.9667652256720487\n",
            "iteration:  48 distance:  0.9280945953148603\n",
            "iteration:  49 distance:  0.8909707971681939\n",
            "iteration:  50 distance:  0.8553319556490351\n",
            "iteration:  51 distance:  0.8211186709500282\n",
            "iteration:  52 distance:  0.7882739197621618\n",
            "iteration:  53 distance:  0.756742960048598\n",
            "iteration:  54 distance:  0.7264732396823774\n",
            "iteration:  55 distance:  0.6974143087750804\n",
            "iteration:  56 distance:  0.6695177355369708\n",
            "iteration:  57 distance:  0.6427370255193523\n",
            "iteration:  58 distance:  0.6170275440979935\n",
            "iteration:  59 distance:  0.5923464420649225\n",
            "iteration:  60 distance:  0.5686525842014589\n",
            "iteration:  61 distance:  0.5459064807118352\n",
            "iteration:  62 distance:  0.5240702214016721\n",
            "iteration:  63 distance:  0.5031074124907207\n",
            "iteration:  64 distance:  0.4829831159541982\n",
            "iteration:  65 distance:  0.46366379129125335\n",
            "iteration:  66 distance:  0.44511723962293104\n",
            "iteration:  67 distance:  0.4273125500267838\n",
            "iteration:  68 distance:  0.41022004801820344\n",
            "iteration:  69 distance:  0.3938112460924117\n",
            "iteration:  70 distance:  0.378058796245341\n",
            "iteration:  71 distance:  0.3629364443932559\n",
            "iteration:  72 distance:  0.34841898661596815\n",
            "iteration:  73 distance:  0.3344822271503176\n",
            "iteration:  74 distance:  0.3211029380636319\n",
            "iteration:  75 distance:  0.3082588205406296\n",
            "iteration:  76 distance:  0.29592846771868153\n",
            "iteration:  77 distance:  0.28409132900975465\n",
            "iteration:  78 distance:  0.272727675849211\n",
            "iteration:  79 distance:  0.26181856881513\n",
            "iteration:  80 distance:  0.2513458260624475\n",
            "iteration:  81 distance:  0.2412919930199564\n",
            "iteration:  82 distance:  0.2316403132991809\n",
            "iteration:  83 distance:  0.22237470076720456\n",
            "iteration:  84 distance:  0.21347971273650046\n",
            "iteration:  85 distance:  0.2049405242270268\n",
            "iteration:  86 distance:  0.19674290325792754\n",
            "iteration:  87 distance:  0.18887318712762635\n",
            "iteration:  88 distance:  0.18131825964258041\n",
            "iteration:  89 distance:  0.17406552925683627\n",
            "iteration:  90 distance:  0.16710290808657646\n",
            "iteration:  91 distance:  0.16041879176310658\n",
            "iteration:  92 distance:  0.15400204009256413\n",
            "iteration:  93 distance:  0.14784195848886839\n",
            "iteration:  94 distance:  0.1419282801493864\n",
            "iteration:  95 distance:  0.13625114894335866\n",
            "iteration:  96 distance:  0.1308011029856857\n",
            "iteration:  97 distance:  0.1255690588662901\n",
            "iteration:  98 distance:  0.12054629651157711\n",
            "iteration:  99 distance:  0.11572444465116405\n",
            "iteration:  100 distance:  0.11109546686509475\n",
            "iteration:  101 distance:  0.10665164819045003\n",
            "iteration:  102 distance:  0.10238558226291161\n",
            "iteration:  103 distance:  0.09829015897241788\n",
            "iteration:  104 distance:  0.09435855261347115\n",
            "iteration:  105 distance:  0.09058421050900733\n",
            "iteration:  106 distance:  0.08696084208861521\n",
            "iteration:  107 distance:  0.08348240840507515\n",
            "iteration:  108 distance:  0.0801431120688676\n",
            "iteration:  109 distance:  0.07693738758609925\n",
            "iteration:  110 distance:  0.07385989208273713\n",
            "iteration:  111 distance:  0.07090549639937649\n",
            "iteration:  112 distance:  0.06806927654338324\n",
            "iteration:  113 distance:  0.06534650548167065\n",
            "iteration:  114 distance:  0.06273264526242883\n",
            "iteration:  115 distance:  0.060223339451965785\n",
            "iteration:  116 distance:  0.057814405873955366\n",
            "iteration:  117 distance:  0.05550182963887096\n",
            "iteration:  118 distance:  0.053281756453372964\n",
            "iteration:  119 distance:  0.05115048619524032\n",
            "iteration:  120 distance:  0.04910446674745117\n",
            "iteration:  121 distance:  0.04714028807757131\n",
            "iteration:  122 distance:  0.04525467655446391\n",
            "iteration:  123 distance:  0.04344448949223079\n",
            "iteration:  124 distance:  0.041706709912602946\n",
            "iteration:  125 distance:  0.04003844151611702\n",
            "iteration:  126 distance:  0.03843690385542686\n",
            "iteration:  127 distance:  0.03689942770120069\n",
            "iteration:  128 distance:  0.0354234505932709\n",
            "iteration:  129 distance:  0.0340065125694764\n",
            "iteration:  130 distance:  0.0326462520666837\n",
            "iteration:  131 distance:  0.03134040198403909\n",
            "iteration:  132 distance:  0.030086785904757107\n",
            "iteration:  133 distance:  0.028883314468544086\n",
            "iteration:  134 distance:  0.027727981889768216\n",
            "iteration:  135 distance:  0.026618862614157024\n",
            "iteration:  136 distance:  0.02555410810958847\n",
            "iteration:  137 distance:  0.02453194378523449\n",
            "iteration:  138 distance:  0.023550666033827383\n",
            "iteration:  139 distance:  0.022608639392501573\n",
            "iteration:  140 distance:  0.021704293816810605\n",
            "iteration:  141 distance:  0.020836122064110896\n",
            "iteration:  142 distance:  0.020002677181537365\n",
            "iteration:  143 distance:  0.019202570094307703\n",
            "iteration:  144 distance:  0.018434467290546763\n",
            "iteration:  145 distance:  0.01769708859893626\n",
            "iteration:  146 distance:  0.016989205055040202\n",
            "iteration:  147 distance:  0.01630963685278175\n",
            "iteration:  148 distance:  0.015657251378684123\n",
            "iteration:  149 distance:  0.01503096132353221\n",
            "iteration:  150 distance:  0.014429722870659134\n",
            "iteration:  151 distance:  0.01385253395574182\n",
            "iteration:  152 distance:  0.013298432597594001\n",
            "iteration:  153 distance:  0.01276649529364704\n",
            "iteration:  154 distance:  0.012255835481937538\n",
            "iteration:  155 distance:  0.011765602062610014\n",
            "iteration:  156 distance:  0.011294977980128351\n",
            "iteration:  157 distance:  0.010843178860966418\n",
            "iteration:  158 distance:  0.010409451706550499\n",
            "iteration:  159 distance:  0.009993073638327132\n"
          ]
        }
      ]
    },
    {
      "cell_type": "code",
      "metadata": {
        "colab": {
          "base_uri": "https://localhost:8080/"
        },
        "id": "F7at6orr4a56",
        "outputId": "3bc4690e-cc59-42ca-c2d0-46bd58f0f174"
      },
      "source": [
        "print('Converged after', iters, 'iterations')\n",
        "print('Policy function at (', int((knpts-1)/2), ',', int((znpts-1)/2), ') should be', \\\n",
        "    kgrid[int((knpts-1)/2)], 'and is', PF[int((knpts-1)/2), int((znpts-1)/2)])"
      ],
      "execution_count": 6,
      "outputs": [
        {
          "output_type": "stream",
          "name": "stdout",
          "text": [
            "Converged after 159 iterations\n",
            "Policy function at ( 25 , 7 ) should be 74.79117175544732 and is 71.82944135393161\n"
          ]
        }
      ]
    },
    {
      "cell_type": "code",
      "metadata": {
        "id": "RgCai-4cFsvB"
      },
      "source": [
        "def policy(k,z):\n",
        "  i = np.argmin(abs(kgrid-k))\n",
        "  j = np.argmin(abs(zgrid-z))\n",
        "  k_new = PF[i,j]\n",
        "  return k_new"
      ],
      "execution_count": 7,
      "outputs": []
    },
    {
      "cell_type": "code",
      "metadata": {
        "colab": {
          "base_uri": "https://localhost:8080/",
          "height": 301
        },
        "id": "efrcDiMEYR7l",
        "outputId": "b1a2b5e1-e511-49f3-bb7c-90a92a44164c"
      },
      "source": [
        "# perform simulation\n",
        "T = 1000  # number of periods to simulate\n",
        "kstart = k_st # starting value for simulation\n",
        "# initialize variable histories\n",
        "epshist = np.random.randn(T)*sigma\n",
        "khist= np.zeros(T+1)\n",
        "zhist = np.ones(T+1)\n",
        "Ihist = np.zeros(T)\n",
        "khist[0] = kstart\n",
        "for t in range(0, T):\n",
        "    # perform simulation with polynomial fit\n",
        "    khist[t+1] = policy(khist[t],zhist[t])\n",
        "    zhist[t+1] = (zhist[t]**rho)*np.exp(epshist[t])\n",
        "    Ihist[t] = modeldefs(khist[t], khist[t+1])   \n",
        "# remove final k & z\n",
        "khist = khist[0:T]\n",
        "zhist = zhist[0:T]\n",
        "\n",
        "# plot data\n",
        "t = range(0, T)\n",
        "plt.plot(t, khist, label='k')\n",
        "plt.plot(t, zhist, label='z')\n",
        "plt.plot(t, Ihist, label='I')\n",
        "plt.xlabel('time')\n",
        "plt.legend(loc=9, ncol=4, bbox_to_anchor=(0., 1.02, 1., .102))\n",
        "plt.show()"
      ],
      "execution_count": 8,
      "outputs": [
        {
          "output_type": "display_data",
          "data": {
            "image/png": "[encoded data removed]",
            "text/plain": [
              "<Figure size 432x288 with 1 Axes>"
            ]
          },
          "metadata": {
            "needs_background": "light"
          }
        }
      ]
    }
  ]
}