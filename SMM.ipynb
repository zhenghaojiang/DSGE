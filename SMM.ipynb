{
  "nbformat": 4,
  "nbformat_minor": 0,
  "metadata": {
    "colab": {
      "name": "SMM",
      "provenance": [],
      "collapsed_sections": [],
      "authorship_tag": "ABX9TyM1i3xdWe/WZVYcrpYDzzEt",
      "include_colab_link": true
    },
    "kernelspec": {
      "name": "python3",
      "display_name": "Python 3"
    },
    "language_info": {
      "name": "python"
    }
  },
  "cells": [
    {
      "cell_type": "markdown",
      "metadata": {
        "id": "view-in-github",
        "colab_type": "text"
      },
      "source": [
        "<a href=\"https://colab.research.google.com/github/zhenghaojiang/rl_dsge/blob/main/SMM.ipynb\" target=\"_parent\"><img src=\"https://colab.research.google.com/assets/colab-badge.svg\" alt=\"Open In Colab\"/></a>"
      ]
    },
    {
      "cell_type": "code",
      "metadata": {
        "id": "M-_854Csu5HY",
        "colab": {
          "base_uri": "https://localhost:8080/",
          "height": 395
        },
        "outputId": "9e819b2b-c744-4071-8259-62acb63b2b93"
      },
      "source": [
        "import numpy as np\n",
        "import numpy.random as rnd\n",
        "import numpy.linalg as lin\n",
        "from sympy import *\n",
        "import scipy.stats as sts\n",
        "import scipy.integrate as intgr\n",
        "import scipy.optimize as opt\n",
        "import matplotlib\n",
        "import matplotlib.pyplot as plt\n",
        "from mpl_toolkits.mplot3d import Axes3D\n",
        "from matplotlib import cm\n",
        "import pandas as pd\n",
        "from tqdm import tqdm\n",
        "\n",
        "from joblib import Parallel, delayed"
      ],
      "execution_count": 14,
      "outputs": [
        {
          "output_type": "error",
          "ename": "ModuleNotFoundError",
          "evalue": "ignored",
          "traceback": [
            "\u001b[0;31m---------------------------------------------------------------------------\u001b[0m",
            "\u001b[0;31mModuleNotFoundError\u001b[0m                       Traceback (most recent call last)",
            "\u001b[0;32m<ipython-input-14-63b1ddc439a5>\u001b[0m in \u001b[0;36m<module>\u001b[0;34m()\u001b[0m\n\u001b[1;32m     12\u001b[0m \u001b[0;32mimport\u001b[0m \u001b[0mpandas\u001b[0m \u001b[0;32mas\u001b[0m \u001b[0mpd\u001b[0m\u001b[0;34m\u001b[0m\u001b[0;34m\u001b[0m\u001b[0m\n\u001b[1;32m     13\u001b[0m \u001b[0;32mfrom\u001b[0m \u001b[0mtqdm\u001b[0m \u001b[0;32mimport\u001b[0m \u001b[0mtqdm\u001b[0m\u001b[0;34m\u001b[0m\u001b[0;34m\u001b[0m\u001b[0m\n\u001b[0;32m---> 14\u001b[0;31m \u001b[0;32mimport\u001b[0m \u001b[0mfsspec\u001b[0m\u001b[0;34m\u001b[0m\u001b[0;34m\u001b[0m\u001b[0m\n\u001b[0m\u001b[1;32m     15\u001b[0m \u001b[0;34m\u001b[0m\u001b[0m\n\u001b[1;32m     16\u001b[0m \u001b[0;32mfrom\u001b[0m \u001b[0mjoblib\u001b[0m \u001b[0;32mimport\u001b[0m \u001b[0mParallel\u001b[0m\u001b[0;34m,\u001b[0m \u001b[0mdelayed\u001b[0m\u001b[0;34m\u001b[0m\u001b[0;34m\u001b[0m\u001b[0m\n",
            "\u001b[0;31mModuleNotFoundError\u001b[0m: No module named 'fsspec'",
            "",
            "\u001b[0;31m---------------------------------------------------------------------------\u001b[0;32m\nNOTE: If your import is failing due to a missing package, you can\nmanually install dependencies using either !pip or !apt.\n\nTo view examples of installing some common dependencies, click the\n\"Open Examples\" button below.\n\u001b[0;31m---------------------------------------------------------------------------\u001b[0m\n"
          ],
          "errorDetails": {
            "actions": [
              {
                "action": "open_url",
                "actionText": "Open Examples",
                "url": "/notebooks/snippets/importing_libraries.ipynb"
              }
            ]
          }
        }
      ]
    },
    {
      "cell_type": "code",
      "source": [
        ""
      ],
      "metadata": {
        "id": "R5Zv05Wf10Zc"
      },
      "execution_count": 2,
      "outputs": []
    },
    {
      "cell_type": "code",
      "source": [
        "# Simulation method --- linear\n",
        "r = 1/0.96 - 1\n",
        "delta = 0.15\n",
        "def linear_sim(params,steps=1000,foresteps=200,times=1):\n",
        "  theta, rho, sigma = params\n",
        "\n",
        "  k_st = (((r+delta)*(1+0.01*delta)-0.005*(delta**2))/theta) ** (1/(theta-1))\n",
        "  I_st = delta*k_st\n",
        "  m1 = theta*(theta-1)*(k_st**(theta-2))-0.01*(I_st**2)/(k_st**3)-0.01*(1-delta)*I_st/(k_st**2)\n",
        "  m2 = 0.01*(I_st/(k_st**2)+(1-delta)/k_st)\n",
        "\n",
        "  A = Symbol('A')\n",
        "  B = Symbol('B')\n",
        "  solved_value = solve([0.01*(1+r)*(A/k_st-I_st/(k_st**2))-(1-delta+A)*(m1+m2*A), \n",
        "              0.01*(1+r)*B/k_st-theta*(k_st**(theta-1))*rho-m1*B-m2*B*(A+rho)], \n",
        "              [A, B])\n",
        "  \n",
        "  kab = np.array(solved_value)[0]\n",
        "  z0 = 1\n",
        "  k0 = 1\n",
        "  def action(k, z):\n",
        "    I_tilt = kab[0]*(k-k_st)+kab[1]*(z-1)\n",
        "    return I_tilt+I_st\n",
        "\n",
        "  I0 = action(k0,z0)\n",
        "  def ztrans(z=z0):\n",
        "    lnz = np.log(z)\n",
        "    lnz_new = rho*lnz + np.random.normal(0, sigma, 1)[0]\n",
        "    return np.exp(lnz_new)\n",
        "  def ktrans(k=k0, I=I0):\n",
        "    k_new = (1-delta)*k+I\n",
        "    return k_new\n",
        "  \n",
        "  for t in range(times):\n",
        "    k_sim = []\n",
        "    I_sim = []\n",
        "    z_sim = []\n",
        "    for i in range(steps+foresteps):\n",
        "      if i==0:\n",
        "        z_sim.append(z0)\n",
        "        k_sim.append(k0)\n",
        "        I_sim.append(I0)\n",
        "      else:\n",
        "        z_sim.append(ztrans(z_sim[i-1]))\n",
        "        k_sim.append(ktrans(k_sim[i-1],I_sim[i-1]))\n",
        "        I_sim.append(action(k_sim[i],z_sim[i]))\n",
        "    if t==0:\n",
        "      k_sim_all = np.array([k_sim[foresteps:]])\n",
        "      I_sim_all = np.array([I_sim[foresteps:]])\n",
        "    else:\n",
        "      k_sim_all = np.append(k_sim_all,np.array([k_sim[foresteps:]]))\n",
        "      I_sim_all = np.append(I_sim_all,np.array([I_sim[foresteps:]]))\n",
        "  return k_sim_all, I_sim_all"
      ],
      "metadata": {
        "id": "Kzq7AQd3AS07"
      },
      "execution_count": 3,
      "outputs": []
    },
    {
      "cell_type": "code",
      "metadata": {
        "id": "CSfrfakMxcis"
      },
      "source": [
        "# Moment function\n",
        "def data_moments(kvals,Ivals):\n",
        "  if kvals.ndim == 1: \n",
        "    k_mean = kvals.mean()\n",
        "    k_var = kvals.var()\n",
        "  elif kvals.ndim == 2: \n",
        "    k_mean = kvals.mean(axis=1)\n",
        "    k_var = kvals.var(axis=1)\n",
        "  if Ivals.ndim == 1: \n",
        "    I_mean = Ivals.mean()\n",
        "  elif Ivals.ndim == 2: \n",
        "    I_mean = Ivals.mean(axis=1)\n",
        "  return np.array(k_mean), np.array(I_mean), np.array(k_var)"
      ],
      "execution_count": 5,
      "outputs": []
    },
    {
      "cell_type": "code",
      "source": [
        "# Error function\n",
        "def err_vec(data_kvals,data_Ivals,sim_kvals,sim_Ivals):\n",
        "\n",
        "    k_mean_data, I_mean_data, k_var_data = data_moments(data_kvals,data_Ivals)\n",
        "    moms_data = np.array([k_mean_data, k_mean_data, k_var_data])\n",
        "    k_mean_sim, I_mean_sim, k_var_sim = data_moments(sim_kvals,sim_Ivals)\n",
        "    k_mean_model = k_mean_sim.mean()\n",
        "    I_mean_model = I_mean_sim.mean()\n",
        "    k_var_model = k_var_sim.mean()\n",
        "    moms_model = np.array([[k_mean_model], [I_mean_model], [k_var_model]])\n",
        "    err_vec = (moms_model - moms_data) / moms_data\n",
        "    \n",
        "    return err_vec"
      ],
      "metadata": {
        "id": "kqXYF-dNh7-2"
      },
      "execution_count": 6,
      "outputs": []
    },
    {
      "cell_type": "code",
      "source": [
        "# Criterion\n",
        "def criterion(params, *args):\n",
        "    \n",
        "    theta, rho, sigma = params\n",
        "    real_k, real_I, W_hat = args\n",
        "    sim_kvals, sim_Ivals = linear_sim(params,times=10)\n",
        "    err = err_vec(real_k,real_I,sim_kvals,sim_Ivals)\n",
        "    crit_val = np.matmul(np.matmul(err.T, W_hat), err) \n",
        "    \n",
        "    return crit_val"
      ],
      "metadata": {
        "id": "s24AAFnhjaOC"
      },
      "execution_count": 7,
      "outputs": []
    },
    {
      "cell_type": "code",
      "source": [
        "# Simulate data with initial parameters\n",
        "\n",
        "theta_low = 0.5\n",
        "theta_high = 0.9\n",
        "theta_npts = int((theta_high-theta_low)/0.1)+1\n",
        "theta_grid = np.linspace(theta_low,theta_high,theta_npts)\n",
        "\n",
        "rho_low = 0.5\n",
        "rho_high = 0.9\n",
        "rho_npts = int((rho_high-rho_low)/0.1)+1\n",
        "rho_grid = np.linspace(rho_low,rho_high,rho_npts)\n",
        "\n",
        "sigma_low = 0.0\n",
        "sigma_high = 0.3\n",
        "sigma_npts = int((sigma_high-sigma_low)/0.05)+1\n",
        "sigma_grid = np.linspace(sigma_low,sigma_high,sigma_npts)\n",
        "\n",
        "theta_real_low = 0.6\n",
        "theta_real_high = 0.8\n",
        "theta_real_npts = int((theta_real_high-theta_real_low)/0.05)+1\n",
        "theta_real_grid = np.linspace(theta_real_low,theta_real_high,theta_real_npts)\n",
        "\n",
        "rho_real_low = 0.6\n",
        "rho_real_high = 0.8\n",
        "rho_real_npts = int((rho_real_high-rho_real_low)/0.05)+1\n",
        "rho_real_grid = np.linspace(rho_real_low,rho_real_high,rho_real_npts)\n",
        "\n",
        "sigma_real_low = 0.05\n",
        "sigma_real_high = 0.25\n",
        "sigma_real_npts = int((sigma_real_high-sigma_real_low)/0.05)+1\n",
        "sigma_real_grid = np.linspace(sigma_real_low,sigma_real_high,sigma_real_npts)\n",
        "\n",
        "W_hat_0 = np.eye(3)\n",
        "#arg_0 = (real_k, real_I, W_hat_0)\n",
        "\n",
        "'''\n",
        "Q_min = 10E+98\n",
        "for i in tqdm(range(theta_npts)):\n",
        "  for j in tqdm(range(rho_npts)):\n",
        "    for k in tqdm(range(sigma_npts)):\n",
        "      params_grid = [theta_grid[i],rho_grid[j],sigma_grid[k]]\n",
        "      Q = criterion(params_grid,real_k, real_I, W_hat_0)\n",
        "      if Q < Q_min:\n",
        "        Q_min = Q\n",
        "        opt_params = params_grid\n",
        "      print([i,j,k])\n",
        "print(opt_params)\n",
        "'''\n",
        "\n",
        "def smm_calc(i,j,k):\n",
        "  params_grid = [theta_grid[i],rho_grid[j],sigma_grid[k]]\n",
        "  Q = criterion(params_grid,real_k,real_I,W_hat_0)\n",
        "  return params_grid, Q\n",
        "\n",
        "real_grid = []\n",
        "for l in range(theta_real_npts): \n",
        "  for m in range(rho_real_npts): \n",
        "    for n in range(sigma_real_npts): \n",
        "      real_grid.append((l,m,n))\n",
        "\n",
        "grid = []\n",
        "for i in range(theta_npts): \n",
        "  for j in range(rho_npts): \n",
        "    for k in range(sigma_npts): \n",
        "      grid.append((i,j,k))\n",
        "\n",
        "colnames = ['grid', 'Q']\n",
        "\n",
        "for l,m,n in tqdm(real_grid):\n",
        "  # Real data\n",
        "  para_real = [theta_real_grid[l],rho_real_grid[m],sigma_real_grid[n]]\n",
        "  real_k, real_I = linear_sim(para_real)\n",
        "  # optimize \n",
        "  res = Parallel(n_jobs=4)(delayed(smm_calc)(i,j,k) for i,j,k in tqdm(grid))\n",
        "  x = pd.DataFrame(columns=colnames,data=res)\n",
        "  filename = \"result_(%g,%g,%g).csv\" % (para_real[0],para_real[1],para_real[2])\n",
        "  x.to_csv(filename)\n",
        "  #x.to_csv(\"D://UChicago//Research//Python//x.csv\")\n"
      ],
      "metadata": {
        "id": "7yH-M3WFsdiJ"
      },
      "execution_count": null,
      "outputs": []
    }
  ]
}