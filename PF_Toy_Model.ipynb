{
  "nbformat": 4,
  "nbformat_minor": 0,
  "metadata": {
    "colab": {
      "name": "PF_Toy Model",
      "provenance": [],
      "authorship_tag": "ABX9TyPEtsEJHW10qjSyglX03r8/",
      "include_colab_link": true
    },
    "kernelspec": {
      "name": "python3",
      "display_name": "Python 3"
    },
    "language_info": {
      "name": "python"
    }
  },
  "cells": [
    {
      "cell_type": "markdown",
      "metadata": {
        "id": "view-in-github",
        "colab_type": "text"
      },
      "source": [
        "<a href=\"https://colab.research.google.com/github/zhenghaojiang/rl_dsge/blob/main/PF_Toy_Model.ipynb\" target=\"_parent\"><img src=\"https://colab.research.google.com/assets/colab-badge.svg\" alt=\"Open In Colab\"/></a>"
      ]
    },
    {
      "cell_type": "code",
      "execution_count": 111,
      "metadata": {
        "id": "Z4YQVnr0Ih-I"
      },
      "outputs": [],
      "source": [
        "import numpy as np\n",
        "import math\n",
        "import matplotlib.pyplot as plt\n",
        "from numpy.random import normal,uniform\n",
        "from scipy.stats import t,gamma,norm"
      ]
    },
    {
      "cell_type": "code",
      "source": [
        "\n",
        "np.random.seed(1111)\n",
        "\n",
        "params_init = {'alpha': 0.15,\n",
        "               'beta': 0.7,\n",
        "               'sigma': 0.7}\n",
        "\n",
        "params_real = {'alpha': 0.3,\n",
        "               'beta': 0.5,\n",
        "               'sigma': 0.5}\n",
        "\n",
        "def xtrans(x,w,alpha):\n",
        "    return 0.5+alpha*x/(1+x**2)+w\n",
        "\n",
        "def sim_y(params: dict = params_real, T = 500) -> np.array:\n",
        "    alpha = params['alpha']\n",
        "    beta = params['beta']\n",
        "    sigma = params['sigma']\n",
        "\n",
        "    x = 1.0\n",
        "    y = []\n",
        "    for _ in range(T):\n",
        "        x_new = xtrans(x,normal(0,sigma),alpha)\n",
        "        y_new = x_new + t.rvs(2,1)\n",
        "        y = np.append(y,y_new)\n",
        "        x = x_new\n",
        "    return y\n",
        "\n",
        "\n",
        "def prior(params: dict):\n",
        "    alpha = params['alpha']\n",
        "    beta = params['beta']\n",
        "    sigma = params['sigma']\n",
        "\n",
        "    p_alpha = gamma.pdf(alpha,2,scale=0.15)\n",
        "    p_beta = gamma.pdf(beta,2,scale=0.5)\n",
        "    p_sigma = gamma.pdf(sigma,2,scale=0.5)\n",
        "    return p_alpha * p_beta * p_sigma\n",
        "\n",
        "def loglikelihoodfunc(params: dict, N = 1000, T = 500):\n",
        "    alpha = params['alpha']\n",
        "    beta = params['beta']\n",
        "    sigma = params['sigma']\n",
        "\n",
        "    y_real = sim_y()\n",
        "    loglikeli = 0.0\n",
        "    x = np.ones(N)\n",
        "    for i in range(T):\n",
        "        w = normal(0,sigma,N)\n",
        "        xcond = xtrans(x,w,alpha)\n",
        "        y = y_real[i] # In practice, change to real y\n",
        "        v = y - beta * xcond\n",
        "        q = t.pdf(v,df=2)/sum(t.pdf(v,df=2))\n",
        "        x = np.random.choice(xcond,N,replace=True,p=q)\n",
        "        loglikeli = loglikeli + math.log(np.mean(t.pdf(v,df=2)))\n",
        "    return loglikeli\n",
        "\n",
        "def mcmc(M = 50, params_init: dict = params_init):\n",
        "\n",
        "    def threshold(params_new: dict, params_old: dict):\n",
        "        prior_mol = prior(params_new)\n",
        "        loglikeli_mol = loglikelihoodfunc(params_new)\n",
        "        prior_den = prior(params_old)\n",
        "        loglikeli_den = loglikelihoodfunc(params_old)\n",
        "        log_res = math.log(prior_mol) + loglikeli_mol - math.log(prior_den) - loglikeli_den\n",
        "        return math.exp(log_res)\n",
        "    \n",
        "    params = params_init\n",
        "    # params_vec = []\n",
        "    for _ in range(M):\n",
        "        params_p = {'alpha': max(params['alpha'] + normal(scale=0.03),0.01),\n",
        "                    'beta': max(params['beta'] + normal(scale=0.05),0.01),\n",
        "                    'sigma': max(params['sigma'] + normal(scale=0.05),0.01)}\n",
        "        chi = uniform()\n",
        "        if chi <= threshold(params_p,params):\n",
        "            params_up = params_p\n",
        "        else:\n",
        "            params_up = params\n",
        "        params = params_up\n",
        "        print(params)"
      ],
      "metadata": {
        "id": "QN65TlVh1hyE"
      },
      "execution_count": 112,
      "outputs": []
    },
    {
      "cell_type": "code",
      "source": [
        "mcmc()"
      ],
      "metadata": {
        "colab": {
          "base_uri": "https://localhost:8080/"
        },
        "id": "HDr-DuJcVkUV",
        "outputId": "35873320-685b-4c4b-f73d-5e6b8fe6362c"
      },
      "execution_count": 110,
      "outputs": [
        {
          "output_type": "stream",
          "name": "stdout",
          "text": [
            "{'alpha': 0.15, 'beta': 0.7, 'sigma': 0.7}\n",
            "{'alpha': 0.15, 'beta': 0.7, 'sigma': 0.7}\n",
            "{'alpha': 0.20793904065608687, 'beta': 0.741064821591342, 'sigma': 0.7042614635453676}\n",
            "{'alpha': 0.20793904065608687, 'beta': 0.741064821591342, 'sigma': 0.7042614635453676}\n",
            "{'alpha': 0.20793904065608687, 'beta': 0.741064821591342, 'sigma': 0.7042614635453676}\n",
            "{'alpha': 0.2394564856400182, 'beta': 0.6807865527569101, 'sigma': 0.7859888599773134}\n",
            "{'alpha': 0.2202119018392754, 'beta': 0.6568696969293784, 'sigma': 0.83704698954056}\n",
            "{'alpha': 0.18316191516348657, 'beta': 0.6001938981276389, 'sigma': 0.8873876673566035}\n",
            "{'alpha': 0.12611054657571716, 'beta': 0.6222269484804636, 'sigma': 0.907735565803306}\n",
            "{'alpha': 0.12611054657571716, 'beta': 0.6222269484804636, 'sigma': 0.907735565803306}\n",
            "{'alpha': 0.12640251931828056, 'beta': 0.6609407887534067, 'sigma': 0.9811495580930639}\n",
            "{'alpha': 0.10999695776206794, 'beta': 0.5358551652418301, 'sigma': 0.9853873905280234}\n",
            "{'alpha': 0.09843263503740252, 'beta': 0.49684997931312247, 'sigma': 0.9270795651221834}\n",
            "{'alpha': 0.1049228096236857, 'beta': 0.593044257032335, 'sigma': 0.9579738819988323}\n",
            "{'alpha': 0.09945076360842857, 'beta': 0.655976603221117, 'sigma': 0.9079696897539216}\n",
            "{'alpha': 0.08093932137468439, 'beta': 0.6872180584027697, 'sigma': 0.9001271551888264}\n",
            "{'alpha': 0.08014181432493232, 'beta': 0.6553239491410384, 'sigma': 0.9260179352761126}\n",
            "{'alpha': 0.08014181432493232, 'beta': 0.6553239491410384, 'sigma': 0.9260179352761126}\n",
            "{'alpha': 0.08014181432493232, 'beta': 0.6553239491410384, 'sigma': 0.9260179352761126}\n",
            "{'alpha': 0.07342470606237447, 'beta': 0.6905610685290142, 'sigma': 0.8908118521726982}\n",
            "{'alpha': 0.07342470606237447, 'beta': 0.6905610685290142, 'sigma': 0.8908118521726982}\n",
            "{'alpha': 0.03987259068336593, 'beta': 0.6365070470898643, 'sigma': 0.926094349303298}\n",
            "{'alpha': 0.01, 'beta': 0.6586491996312258, 'sigma': 0.9297774221481995}\n",
            "{'alpha': 0.01, 'beta': 0.6586491996312258, 'sigma': 0.9297774221481995}\n",
            "{'alpha': 0.03501022416497548, 'beta': 0.6807301946460527, 'sigma': 0.954111244489794}\n",
            "{'alpha': 0.03501022416497548, 'beta': 0.6807301946460527, 'sigma': 0.954111244489794}\n",
            "{'alpha': 0.03501022416497548, 'beta': 0.6807301946460527, 'sigma': 0.954111244489794}\n",
            "{'alpha': 0.01, 'beta': 0.60446020284901, 'sigma': 0.8866467076715354}\n",
            "{'alpha': 0.07796550134088331, 'beta': 0.6711186823265971, 'sigma': 0.9019343374252445}\n",
            "{'alpha': 0.07796550134088331, 'beta': 0.6711186823265971, 'sigma': 0.9019343374252445}\n",
            "{'alpha': 0.0328162328862283, 'beta': 0.5774349849608621, 'sigma': 0.9084206037077455}\n",
            "{'alpha': 0.046504513428265656, 'beta': 0.6080966943279188, 'sigma': 0.8564456981635007}\n",
            "{'alpha': 0.07007661303438431, 'beta': 0.6174289504464366, 'sigma': 0.798950850445615}\n",
            "{'alpha': 0.0638080695051933, 'beta': 0.6531155853427804, 'sigma': 0.6810828138764746}\n",
            "{'alpha': 0.0638080695051933, 'beta': 0.6531155853427804, 'sigma': 0.6810828138764746}\n",
            "{'alpha': 0.0638080695051933, 'beta': 0.6531155853427804, 'sigma': 0.6810828138764746}\n",
            "{'alpha': 0.055728354611463325, 'beta': 0.6699201319144632, 'sigma': 0.8062850301720658}\n",
            "{'alpha': 0.04372855334667326, 'beta': 0.7435128429843034, 'sigma': 0.8582093762296295}\n",
            "{'alpha': 0.01, 'beta': 0.8495253537579903, 'sigma': 0.7806670624016117}\n",
            "{'alpha': 0.01, 'beta': 0.8370452439009683, 'sigma': 0.7134725743293964}\n",
            "{'alpha': 0.01, 'beta': 0.8370452439009683, 'sigma': 0.7134725743293964}\n",
            "{'alpha': 0.01, 'beta': 0.8370452439009683, 'sigma': 0.7134725743293964}\n",
            "{'alpha': 0.01, 'beta': 0.8370452439009683, 'sigma': 0.7134725743293964}\n",
            "{'alpha': 0.01, 'beta': 0.8311686874720186, 'sigma': 0.7464675517016564}\n",
            "{'alpha': 0.07895792189017722, 'beta': 0.8621280749942345, 'sigma': 0.7092439977781813}\n",
            "{'alpha': 0.07895792189017722, 'beta': 0.8621280749942345, 'sigma': 0.7092439977781813}\n",
            "{'alpha': 0.09850276490204694, 'beta': 0.819246541252604, 'sigma': 0.7301791110920189}\n",
            "{'alpha': 0.15755242236085304, 'beta': 0.8205446266529691, 'sigma': 0.7934830645833785}\n",
            "{'alpha': 0.1434005769811065, 'beta': 0.9000057302755156, 'sigma': 0.787687351205433}\n",
            "{'alpha': 0.12358094289378652, 'beta': 0.9532213860038985, 'sigma': 0.8009440800368178}\n"
          ]
        }
      ]
    }
  ]
}